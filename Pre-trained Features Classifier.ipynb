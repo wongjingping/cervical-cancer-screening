{
 "cells": [
  {
   "cell_type": "markdown",
   "metadata": {},
   "source": [
    "# Simple Classifier\n",
    "\n",
    "In this notebook, we train a xgboost classifier using cross-validated random search on top of the pre-trained features."
   ]
  },
  {
   "cell_type": "code",
   "execution_count": null,
   "metadata": {
    "collapsed": true
   },
   "outputs": [],
   "source": [
    "%matplotlib inline\n",
    "\n",
    "# system libraries\n",
    "import os\n",
    "from glob import glob\n",
    "import h5py\n",
    "from time import time\n",
    "\n",
    "# numerical,image and plotting stuff\n",
    "import math\n",
    "import pandas as pd\n",
    "import numpy as np\n",
    "import matplotlib.pyplot as plt\n",
    "import seaborn as sns\n",
    "\n",
    "sns.set_style(\"whitegrid\", {'axes.grid' : False})"
   ]
  },
  {
   "cell_type": "code",
   "execution_count": 2,
   "metadata": {
    "collapsed": false
   },
   "outputs": [
    {
     "name": "stdout",
     "output_type": "stream",
     "text": [
      "(1480, 7, 7, 512)\n"
     ]
    }
   ],
   "source": [
    "# read in data\n",
    "f = h5py.File('data/train.h5','r')\n",
    "X_raw = f.get('train/X')[...]\n",
    "Y = f.get('train/Y')[...]\n",
    "X_submit_raw = f.get('submit/X')[...]\n",
    "\n",
    "print(X_raw.shape)"
   ]
  },
  {
   "cell_type": "markdown",
   "metadata": {},
   "source": [
    "We write a pre-processing function that aggregates the raw features into a smaller dataset."
   ]
  },
  {
   "cell_type": "code",
   "execution_count": 3,
   "metadata": {
    "collapsed": false
   },
   "outputs": [],
   "source": [
    "def preproc_X(X_raw):\n",
    "    X_raw_max = np.max(X_raw,axis=(1,2))\n",
    "    X_raw_mean = np.mean(X_raw,axis=(1,2))\n",
    "    X_raw_min = np.min(X_raw,axis=(1,2))\n",
    "    X_raw_max_mean = X_raw_max - X_raw_mean\n",
    "    X_raw_mean_min = X_raw_mean - X_raw_min\n",
    "    X_raw_max_min = X_raw_max - X_raw_min\n",
    "    X = np.hstack((X_raw_max,X_raw_mean,X_raw_min,X_raw_max_mean,X_raw_mean_min,X_raw_max_min))\n",
    "    return X"
   ]
  },
  {
   "cell_type": "code",
   "execution_count": 4,
   "metadata": {
    "collapsed": false
   },
   "outputs": [
    {
     "name": "stdout",
     "output_type": "stream",
     "text": [
      "train: 1184 test: 296\n"
     ]
    }
   ],
   "source": [
    "from sklearn.model_selection import train_test_split\n",
    "\n",
    "X = preproc_X(X_raw)\n",
    "X_submit = preproc_X(X_submit_raw)\n",
    "X_train, X_test, y_train, y_test = train_test_split(X, Y, test_size=0.2, random_state=290615)\n",
    "print('train: %i test: %i' % (len(y_train),len(y_test)))"
   ]
  },
  {
   "cell_type": "code",
   "execution_count": 5,
   "metadata": {
    "collapsed": false
   },
   "outputs": [
    {
     "name": "stderr",
     "output_type": "stream",
     "text": [
      "/Users/jingpingw/anaconda/lib/python3.5/site-packages/sklearn/cross_validation.py:44: DeprecationWarning: This module was deprecated in version 0.18 in favor of the model_selection module into which all the refactored classes and functions are moved. Also note that the interface of the new CV iterators are different from that of this module. This module will be removed in 0.20.\n",
      "  \"This module will be removed in 0.20.\", DeprecationWarning)\n"
     ]
    },
    {
     "name": "stdout",
     "output_type": "stream",
     "text": [
      "Fitting 3 folds for each of 50 candidates, totalling 150 fits\n",
      "[CV] n_estimators=807, max_depth=6, colsample_bytree=0.511422742252, subsample=0.665992412225, learning_rate=0.314762301489 \n",
      "[CV]  n_estimators=807, max_depth=6, colsample_bytree=0.511422742252, subsample=0.665992412225, learning_rate=0.314762301489, total=  32.0s\n",
      "[CV] n_estimators=807, max_depth=6, colsample_bytree=0.511422742252, subsample=0.665992412225, learning_rate=0.314762301489 \n"
     ]
    },
    {
     "name": "stderr",
     "output_type": "stream",
     "text": [
      "[Parallel(n_jobs=1)]: Done   1 out of   1 | elapsed:   32.1s remaining:    0.0s\n"
     ]
    },
    {
     "name": "stdout",
     "output_type": "stream",
     "text": [
      "[CV]  n_estimators=807, max_depth=6, colsample_bytree=0.511422742252, subsample=0.665992412225, learning_rate=0.314762301489, total=  28.7s\n",
      "[CV] n_estimators=807, max_depth=6, colsample_bytree=0.511422742252, subsample=0.665992412225, learning_rate=0.314762301489 \n",
      "[CV]  n_estimators=807, max_depth=6, colsample_bytree=0.511422742252, subsample=0.665992412225, learning_rate=0.314762301489, total=  31.0s\n",
      "[CV] n_estimators=887, max_depth=3, colsample_bytree=0.66625095903, subsample=0.668817467924, learning_rate=0.590255056521 \n",
      "[CV]  n_estimators=887, max_depth=3, colsample_bytree=0.66625095903, subsample=0.668817467924, learning_rate=0.590255056521, total=  28.4s\n",
      "[CV] n_estimators=887, max_depth=3, colsample_bytree=0.66625095903, subsample=0.668817467924, learning_rate=0.590255056521 \n",
      "[CV]  n_estimators=887, max_depth=3, colsample_bytree=0.66625095903, subsample=0.668817467924, learning_rate=0.590255056521, total=  28.5s\n",
      "[CV] n_estimators=887, max_depth=3, colsample_bytree=0.66625095903, subsample=0.668817467924, learning_rate=0.590255056521 \n",
      "[CV]  n_estimators=887, max_depth=3, colsample_bytree=0.66625095903, subsample=0.668817467924, learning_rate=0.590255056521, total=  28.0s\n",
      "[CV] n_estimators=434, max_depth=5, colsample_bytree=0.518909413369, subsample=0.555167471926, learning_rate=0.16871925869 \n",
      "[CV]  n_estimators=434, max_depth=5, colsample_bytree=0.518909413369, subsample=0.555167471926, learning_rate=0.16871925869, total=  23.1s\n",
      "[CV] n_estimators=434, max_depth=5, colsample_bytree=0.518909413369, subsample=0.555167471926, learning_rate=0.16871925869 \n",
      "[CV]  n_estimators=434, max_depth=5, colsample_bytree=0.518909413369, subsample=0.555167471926, learning_rate=0.16871925869, total=  23.1s\n",
      "[CV] n_estimators=434, max_depth=5, colsample_bytree=0.518909413369, subsample=0.555167471926, learning_rate=0.16871925869 \n",
      "[CV]  n_estimators=434, max_depth=5, colsample_bytree=0.518909413369, subsample=0.555167471926, learning_rate=0.16871925869, total=  23.2s\n",
      "[CV] n_estimators=257, max_depth=2, colsample_bytree=0.634443333243, subsample=0.580572424806, learning_rate=0.181371764538 \n",
      "[CV]  n_estimators=257, max_depth=2, colsample_bytree=0.634443333243, subsample=0.580572424806, learning_rate=0.181371764538, total=  10.7s\n",
      "[CV] n_estimators=257, max_depth=2, colsample_bytree=0.634443333243, subsample=0.580572424806, learning_rate=0.181371764538 \n",
      "[CV]  n_estimators=257, max_depth=2, colsample_bytree=0.634443333243, subsample=0.580572424806, learning_rate=0.181371764538, total=  11.1s\n",
      "[CV] n_estimators=257, max_depth=2, colsample_bytree=0.634443333243, subsample=0.580572424806, learning_rate=0.181371764538 \n",
      "[CV]  n_estimators=257, max_depth=2, colsample_bytree=0.634443333243, subsample=0.580572424806, learning_rate=0.181371764538, total=  11.3s\n",
      "[CV] n_estimators=748, max_depth=4, colsample_bytree=0.423562930489, subsample=0.73997854298, learning_rate=0.11046410576 \n",
      "[CV]  n_estimators=748, max_depth=4, colsample_bytree=0.423562930489, subsample=0.73997854298, learning_rate=0.11046410576, total=  32.3s\n",
      "[CV] n_estimators=748, max_depth=4, colsample_bytree=0.423562930489, subsample=0.73997854298, learning_rate=0.11046410576 \n",
      "[CV]  n_estimators=748, max_depth=4, colsample_bytree=0.423562930489, subsample=0.73997854298, learning_rate=0.11046410576, total=  40.9s\n",
      "[CV] n_estimators=748, max_depth=4, colsample_bytree=0.423562930489, subsample=0.73997854298, learning_rate=0.11046410576 \n",
      "[CV]  n_estimators=748, max_depth=4, colsample_bytree=0.423562930489, subsample=0.73997854298, learning_rate=0.11046410576, total=  32.9s\n",
      "[CV] n_estimators=349, max_depth=4, colsample_bytree=0.728447648029, subsample=0.849765629147, learning_rate=0.384141736453 \n",
      "[CV]  n_estimators=349, max_depth=4, colsample_bytree=0.728447648029, subsample=0.849765629147, learning_rate=0.384141736453, total=  20.8s\n",
      "[CV] n_estimators=349, max_depth=4, colsample_bytree=0.728447648029, subsample=0.849765629147, learning_rate=0.384141736453 \n",
      "[CV]  n_estimators=349, max_depth=4, colsample_bytree=0.728447648029, subsample=0.849765629147, learning_rate=0.384141736453, total=  20.2s\n",
      "[CV] n_estimators=349, max_depth=4, colsample_bytree=0.728447648029, subsample=0.849765629147, learning_rate=0.384141736453 \n",
      "[CV]  n_estimators=349, max_depth=4, colsample_bytree=0.728447648029, subsample=0.849765629147, learning_rate=0.384141736453, total=  18.7s\n",
      "[CV] n_estimators=195, max_depth=1, colsample_bytree=0.64973187492, subsample=0.73335867039, learning_rate=0.179894886897 \n",
      "[CV]  n_estimators=195, max_depth=1, colsample_bytree=0.64973187492, subsample=0.73335867039, learning_rate=0.179894886897, total=   5.1s\n",
      "[CV] n_estimators=195, max_depth=1, colsample_bytree=0.64973187492, subsample=0.73335867039, learning_rate=0.179894886897 \n",
      "[CV]  n_estimators=195, max_depth=1, colsample_bytree=0.64973187492, subsample=0.73335867039, learning_rate=0.179894886897, total=   4.9s\n",
      "[CV] n_estimators=195, max_depth=1, colsample_bytree=0.64973187492, subsample=0.73335867039, learning_rate=0.179894886897 \n",
      "[CV]  n_estimators=195, max_depth=1, colsample_bytree=0.64973187492, subsample=0.73335867039, learning_rate=0.179894886897, total=   5.7s\n",
      "[CV] n_estimators=884, max_depth=1, colsample_bytree=0.942424625785, subsample=0.311872240331, learning_rate=0.134668241076 \n",
      "[CV]  n_estimators=884, max_depth=1, colsample_bytree=0.942424625785, subsample=0.311872240331, learning_rate=0.134668241076, total=  24.1s\n",
      "[CV] n_estimators=884, max_depth=1, colsample_bytree=0.942424625785, subsample=0.311872240331, learning_rate=0.134668241076 \n",
      "[CV]  n_estimators=884, max_depth=1, colsample_bytree=0.942424625785, subsample=0.311872240331, learning_rate=0.134668241076, total=  21.7s\n",
      "[CV] n_estimators=884, max_depth=1, colsample_bytree=0.942424625785, subsample=0.311872240331, learning_rate=0.134668241076 \n",
      "[CV]  n_estimators=884, max_depth=1, colsample_bytree=0.942424625785, subsample=0.311872240331, learning_rate=0.134668241076, total=  24.9s\n",
      "[CV] n_estimators=544, max_depth=3, colsample_bytree=0.750686906394, subsample=0.435919380506, learning_rate=0.26255425534 \n",
      "[CV]  n_estimators=544, max_depth=3, colsample_bytree=0.750686906394, subsample=0.435919380506, learning_rate=0.26255425534, total=  27.6s\n",
      "[CV] n_estimators=544, max_depth=3, colsample_bytree=0.750686906394, subsample=0.435919380506, learning_rate=0.26255425534 \n",
      "[CV]  n_estimators=544, max_depth=3, colsample_bytree=0.750686906394, subsample=0.435919380506, learning_rate=0.26255425534, total=  27.6s\n",
      "[CV] n_estimators=544, max_depth=3, colsample_bytree=0.750686906394, subsample=0.435919380506, learning_rate=0.26255425534 \n",
      "[CV]  n_estimators=544, max_depth=3, colsample_bytree=0.750686906394, subsample=0.435919380506, learning_rate=0.26255425534, total=  27.3s\n",
      "[CV] n_estimators=338, max_depth=2, colsample_bytree=0.656382424221, subsample=0.886659794772, learning_rate=0.159953352245 \n",
      "[CV]  n_estimators=338, max_depth=2, colsample_bytree=0.656382424221, subsample=0.886659794772, learning_rate=0.159953352245, total=  15.6s\n",
      "[CV] n_estimators=338, max_depth=2, colsample_bytree=0.656382424221, subsample=0.886659794772, learning_rate=0.159953352245 \n",
      "[CV]  n_estimators=338, max_depth=2, colsample_bytree=0.656382424221, subsample=0.886659794772, learning_rate=0.159953352245, total=  17.6s\n",
      "[CV] n_estimators=338, max_depth=2, colsample_bytree=0.656382424221, subsample=0.886659794772, learning_rate=0.159953352245 \n",
      "[CV]  n_estimators=338, max_depth=2, colsample_bytree=0.656382424221, subsample=0.886659794772, learning_rate=0.159953352245, total=  16.2s\n",
      "[CV] n_estimators=125, max_depth=5, colsample_bytree=0.398266360822, subsample=0.977239529883, learning_rate=0.296057031223 \n",
      "[CV]  n_estimators=125, max_depth=5, colsample_bytree=0.398266360822, subsample=0.977239529883, learning_rate=0.296057031223, total=   7.2s\n",
      "[CV] n_estimators=125, max_depth=5, colsample_bytree=0.398266360822, subsample=0.977239529883, learning_rate=0.296057031223 \n",
      "[CV]  n_estimators=125, max_depth=5, colsample_bytree=0.398266360822, subsample=0.977239529883, learning_rate=0.296057031223, total=   7.3s\n",
      "[CV] n_estimators=125, max_depth=5, colsample_bytree=0.398266360822, subsample=0.977239529883, learning_rate=0.296057031223 \n",
      "[CV]  n_estimators=125, max_depth=5, colsample_bytree=0.398266360822, subsample=0.977239529883, learning_rate=0.296057031223, total=   7.5s\n",
      "[CV] n_estimators=804, max_depth=1, colsample_bytree=0.982034733119, subsample=0.492800409446, learning_rate=0.345365740036 \n",
      "[CV]  n_estimators=804, max_depth=1, colsample_bytree=0.982034733119, subsample=0.492800409446, learning_rate=0.345365740036, total=  26.9s\n",
      "[CV] n_estimators=804, max_depth=1, colsample_bytree=0.982034733119, subsample=0.492800409446, learning_rate=0.345365740036 \n",
      "[CV]  n_estimators=804, max_depth=1, colsample_bytree=0.982034733119, subsample=0.492800409446, learning_rate=0.345365740036, total=  31.9s\n",
      "[CV] n_estimators=804, max_depth=1, colsample_bytree=0.982034733119, subsample=0.492800409446, learning_rate=0.345365740036 \n",
      "[CV]  n_estimators=804, max_depth=1, colsample_bytree=0.982034733119, subsample=0.492800409446, learning_rate=0.345365740036, total=  27.6s\n",
      "[CV] n_estimators=312, max_depth=3, colsample_bytree=0.944786167177, subsample=0.991148489164, learning_rate=0.510582356101 \n",
      "[CV]  n_estimators=312, max_depth=3, colsample_bytree=0.944786167177, subsample=0.991148489164, learning_rate=0.510582356101, total=  21.4s\n",
      "[CV] n_estimators=312, max_depth=3, colsample_bytree=0.944786167177, subsample=0.991148489164, learning_rate=0.510582356101 \n",
      "[CV]  n_estimators=312, max_depth=3, colsample_bytree=0.944786167177, subsample=0.991148489164, learning_rate=0.510582356101, total=  20.9s\n",
      "[CV] n_estimators=312, max_depth=3, colsample_bytree=0.944786167177, subsample=0.991148489164, learning_rate=0.510582356101 \n",
      "[CV]  n_estimators=312, max_depth=3, colsample_bytree=0.944786167177, subsample=0.991148489164, learning_rate=0.510582356101, total=  23.1s\n",
      "[CV] n_estimators=991, max_depth=5, colsample_bytree=0.828128281434, subsample=0.371499566423, learning_rate=0.525519027792 \n",
      "[CV]  n_estimators=991, max_depth=5, colsample_bytree=0.828128281434, subsample=0.371499566423, learning_rate=0.525519027792, total=  40.9s\n",
      "[CV] n_estimators=991, max_depth=5, colsample_bytree=0.828128281434, subsample=0.371499566423, learning_rate=0.525519027792 \n",
      "[CV]  n_estimators=991, max_depth=5, colsample_bytree=0.828128281434, subsample=0.371499566423, learning_rate=0.525519027792, total=  33.0s\n",
      "[CV] n_estimators=991, max_depth=5, colsample_bytree=0.828128281434, subsample=0.371499566423, learning_rate=0.525519027792 \n",
      "[CV]  n_estimators=991, max_depth=5, colsample_bytree=0.828128281434, subsample=0.371499566423, learning_rate=0.525519027792, total=  31.0s\n",
      "[CV] n_estimators=424, max_depth=7, colsample_bytree=0.660528252468, subsample=0.428668327087, learning_rate=0.229761417882 \n",
      "[CV]  n_estimators=424, max_depth=7, colsample_bytree=0.660528252468, subsample=0.428668327087, learning_rate=0.229761417882, total=  24.5s\n",
      "[CV] n_estimators=424, max_depth=7, colsample_bytree=0.660528252468, subsample=0.428668327087, learning_rate=0.229761417882 \n",
      "[CV]  n_estimators=424, max_depth=7, colsample_bytree=0.660528252468, subsample=0.428668327087, learning_rate=0.229761417882, total=  25.9s\n",
      "[CV] n_estimators=424, max_depth=7, colsample_bytree=0.660528252468, subsample=0.428668327087, learning_rate=0.229761417882 \n",
      "[CV]  n_estimators=424, max_depth=7, colsample_bytree=0.660528252468, subsample=0.428668327087, learning_rate=0.229761417882, total=  26.9s\n",
      "[CV] n_estimators=918, max_depth=6, colsample_bytree=0.567500865072, subsample=0.519118953538, learning_rate=0.313693812535 \n",
      "[CV]  n_estimators=918, max_depth=6, colsample_bytree=0.567500865072, subsample=0.519118953538, learning_rate=0.313693812535, total=  31.5s\n",
      "[CV] n_estimators=918, max_depth=6, colsample_bytree=0.567500865072, subsample=0.519118953538, learning_rate=0.313693812535 \n",
      "[CV]  n_estimators=918, max_depth=6, colsample_bytree=0.567500865072, subsample=0.519118953538, learning_rate=0.313693812535, total=  29.5s\n",
      "[CV] n_estimators=918, max_depth=6, colsample_bytree=0.567500865072, subsample=0.519118953538, learning_rate=0.313693812535 \n",
      "[CV]  n_estimators=918, max_depth=6, colsample_bytree=0.567500865072, subsample=0.519118953538, learning_rate=0.313693812535, total=  32.8s\n",
      "[CV] n_estimators=150, max_depth=4, colsample_bytree=0.638511462894, subsample=0.655072573562, learning_rate=0.35918710119 \n",
      "[CV]  n_estimators=150, max_depth=4, colsample_bytree=0.638511462894, subsample=0.655072573562, learning_rate=0.35918710119, total=  10.6s\n",
      "[CV] n_estimators=150, max_depth=4, colsample_bytree=0.638511462894, subsample=0.655072573562, learning_rate=0.35918710119 \n",
      "[CV]  n_estimators=150, max_depth=4, colsample_bytree=0.638511462894, subsample=0.655072573562, learning_rate=0.35918710119, total=   9.8s\n",
      "[CV] n_estimators=150, max_depth=4, colsample_bytree=0.638511462894, subsample=0.655072573562, learning_rate=0.35918710119 \n",
      "[CV]  n_estimators=150, max_depth=4, colsample_bytree=0.638511462894, subsample=0.655072573562, learning_rate=0.35918710119, total=  10.0s\n",
      "[CV] n_estimators=917, max_depth=3, colsample_bytree=0.579238375965, subsample=0.51307469743, learning_rate=0.137908639354 \n",
      "[CV]  n_estimators=917, max_depth=3, colsample_bytree=0.579238375965, subsample=0.51307469743, learning_rate=0.137908639354, total=  38.2s\n",
      "[CV] n_estimators=917, max_depth=3, colsample_bytree=0.579238375965, subsample=0.51307469743, learning_rate=0.137908639354 \n",
      "[CV]  n_estimators=917, max_depth=3, colsample_bytree=0.579238375965, subsample=0.51307469743, learning_rate=0.137908639354, total=  37.7s\n",
      "[CV] n_estimators=917, max_depth=3, colsample_bytree=0.579238375965, subsample=0.51307469743, learning_rate=0.137908639354 \n",
      "[CV]  n_estimators=917, max_depth=3, colsample_bytree=0.579238375965, subsample=0.51307469743, learning_rate=0.137908639354, total=  37.2s\n",
      "[CV] n_estimators=755, max_depth=1, colsample_bytree=0.653902123348, subsample=0.657144452875, learning_rate=0.431224564087 \n",
      "[CV]  n_estimators=755, max_depth=1, colsample_bytree=0.653902123348, subsample=0.657144452875, learning_rate=0.431224564087, total=  18.0s\n",
      "[CV] n_estimators=755, max_depth=1, colsample_bytree=0.653902123348, subsample=0.657144452875, learning_rate=0.431224564087 \n",
      "[CV]  n_estimators=755, max_depth=1, colsample_bytree=0.653902123348, subsample=0.657144452875, learning_rate=0.431224564087, total=  18.1s\n",
      "[CV] n_estimators=755, max_depth=1, colsample_bytree=0.653902123348, subsample=0.657144452875, learning_rate=0.431224564087 \n",
      "[CV]  n_estimators=755, max_depth=1, colsample_bytree=0.653902123348, subsample=0.657144452875, learning_rate=0.431224564087, total=  18.0s\n",
      "[CV] n_estimators=892, max_depth=6, colsample_bytree=0.616712745761, subsample=0.781975378079, learning_rate=0.145051935135 \n",
      "[CV]  n_estimators=892, max_depth=6, colsample_bytree=0.616712745761, subsample=0.781975378079, learning_rate=0.145051935135, total=  43.0s\n",
      "[CV] n_estimators=892, max_depth=6, colsample_bytree=0.616712745761, subsample=0.781975378079, learning_rate=0.145051935135 \n",
      "[CV]  n_estimators=892, max_depth=6, colsample_bytree=0.616712745761, subsample=0.781975378079, learning_rate=0.145051935135, total=  42.6s\n",
      "[CV] n_estimators=892, max_depth=6, colsample_bytree=0.616712745761, subsample=0.781975378079, learning_rate=0.145051935135 \n",
      "[CV]  n_estimators=892, max_depth=6, colsample_bytree=0.616712745761, subsample=0.781975378079, learning_rate=0.145051935135, total=  43.0s\n",
      "[CV] n_estimators=924, max_depth=2, colsample_bytree=0.795113442641, subsample=0.456771679478, learning_rate=0.374586071762 \n",
      "[CV]  n_estimators=924, max_depth=2, colsample_bytree=0.795113442641, subsample=0.456771679478, learning_rate=0.374586071762, total=  31.7s\n",
      "[CV] n_estimators=924, max_depth=2, colsample_bytree=0.795113442641, subsample=0.456771679478, learning_rate=0.374586071762 \n",
      "[CV]  n_estimators=924, max_depth=2, colsample_bytree=0.795113442641, subsample=0.456771679478, learning_rate=0.374586071762, total=  32.2s\n",
      "[CV] n_estimators=924, max_depth=2, colsample_bytree=0.795113442641, subsample=0.456771679478, learning_rate=0.374586071762 \n",
      "[CV]  n_estimators=924, max_depth=2, colsample_bytree=0.795113442641, subsample=0.456771679478, learning_rate=0.374586071762, total=  32.6s\n",
      "[CV] n_estimators=307, max_depth=6, colsample_bytree=0.462186871916, subsample=0.33172828565, learning_rate=0.129906319654 \n",
      "[CV]  n_estimators=307, max_depth=6, colsample_bytree=0.462186871916, subsample=0.33172828565, learning_rate=0.129906319654, total=  17.2s\n",
      "[CV] n_estimators=307, max_depth=6, colsample_bytree=0.462186871916, subsample=0.33172828565, learning_rate=0.129906319654 \n",
      "[CV]  n_estimators=307, max_depth=6, colsample_bytree=0.462186871916, subsample=0.33172828565, learning_rate=0.129906319654, total=  18.3s\n",
      "[CV] n_estimators=307, max_depth=6, colsample_bytree=0.462186871916, subsample=0.33172828565, learning_rate=0.129906319654 \n",
      "[CV]  n_estimators=307, max_depth=6, colsample_bytree=0.462186871916, subsample=0.33172828565, learning_rate=0.129906319654, total=  17.7s\n",
      "[CV] n_estimators=812, max_depth=7, colsample_bytree=0.546222811165, subsample=0.589965075593, learning_rate=0.156220704541 \n",
      "[CV]  n_estimators=812, max_depth=7, colsample_bytree=0.546222811165, subsample=0.589965075593, learning_rate=0.156220704541, total=  39.2s\n",
      "[CV] n_estimators=812, max_depth=7, colsample_bytree=0.546222811165, subsample=0.589965075593, learning_rate=0.156220704541 \n",
      "[CV]  n_estimators=812, max_depth=7, colsample_bytree=0.546222811165, subsample=0.589965075593, learning_rate=0.156220704541, total=  38.5s\n",
      "[CV] n_estimators=812, max_depth=7, colsample_bytree=0.546222811165, subsample=0.589965075593, learning_rate=0.156220704541 \n",
      "[CV]  n_estimators=812, max_depth=7, colsample_bytree=0.546222811165, subsample=0.589965075593, learning_rate=0.156220704541, total=  36.6s\n",
      "[CV] n_estimators=654, max_depth=6, colsample_bytree=0.716394772286, subsample=0.934872853469, learning_rate=0.38825271455 \n",
      "[CV]  n_estimators=654, max_depth=6, colsample_bytree=0.716394772286, subsample=0.934872853469, learning_rate=0.38825271455, total=  36.2s\n",
      "[CV] n_estimators=654, max_depth=6, colsample_bytree=0.716394772286, subsample=0.934872853469, learning_rate=0.38825271455 \n",
      "[CV]  n_estimators=654, max_depth=6, colsample_bytree=0.716394772286, subsample=0.934872853469, learning_rate=0.38825271455, total=  31.3s\n",
      "[CV] n_estimators=654, max_depth=6, colsample_bytree=0.716394772286, subsample=0.934872853469, learning_rate=0.38825271455 \n",
      "[CV]  n_estimators=654, max_depth=6, colsample_bytree=0.716394772286, subsample=0.934872853469, learning_rate=0.38825271455, total=  28.4s\n",
      "[CV] n_estimators=913, max_depth=7, colsample_bytree=0.422488810477, subsample=0.664930176789, learning_rate=0.352535619614 \n",
      "[CV]  n_estimators=913, max_depth=7, colsample_bytree=0.422488810477, subsample=0.664930176789, learning_rate=0.352535619614, total=  26.0s\n",
      "[CV] n_estimators=913, max_depth=7, colsample_bytree=0.422488810477, subsample=0.664930176789, learning_rate=0.352535619614 \n",
      "[CV]  n_estimators=913, max_depth=7, colsample_bytree=0.422488810477, subsample=0.664930176789, learning_rate=0.352535619614, total=  24.0s\n",
      "[CV] n_estimators=913, max_depth=7, colsample_bytree=0.422488810477, subsample=0.664930176789, learning_rate=0.352535619614 \n",
      "[CV]  n_estimators=913, max_depth=7, colsample_bytree=0.422488810477, subsample=0.664930176789, learning_rate=0.352535619614, total=  24.6s\n",
      "[CV] n_estimators=843, max_depth=4, colsample_bytree=0.486361419834, subsample=0.428309462912, learning_rate=0.284715244271 \n",
      "[CV]  n_estimators=843, max_depth=4, colsample_bytree=0.486361419834, subsample=0.428309462912, learning_rate=0.284715244271, total=  25.5s\n",
      "[CV] n_estimators=843, max_depth=4, colsample_bytree=0.486361419834, subsample=0.428309462912, learning_rate=0.284715244271 \n",
      "[CV]  n_estimators=843, max_depth=4, colsample_bytree=0.486361419834, subsample=0.428309462912, learning_rate=0.284715244271, total=  27.2s\n",
      "[CV] n_estimators=843, max_depth=4, colsample_bytree=0.486361419834, subsample=0.428309462912, learning_rate=0.284715244271 \n",
      "[CV]  n_estimators=843, max_depth=4, colsample_bytree=0.486361419834, subsample=0.428309462912, learning_rate=0.284715244271, total=  24.7s\n",
      "[CV] n_estimators=218, max_depth=7, colsample_bytree=0.483601022034, subsample=0.667395079741, learning_rate=0.594897582592 \n",
      "[CV]  n_estimators=218, max_depth=7, colsample_bytree=0.483601022034, subsample=0.667395079741, learning_rate=0.594897582592, total=  10.7s\n",
      "[CV] n_estimators=218, max_depth=7, colsample_bytree=0.483601022034, subsample=0.667395079741, learning_rate=0.594897582592 \n",
      "[CV]  n_estimators=218, max_depth=7, colsample_bytree=0.483601022034, subsample=0.667395079741, learning_rate=0.594897582592, total=   9.0s\n",
      "[CV] n_estimators=218, max_depth=7, colsample_bytree=0.483601022034, subsample=0.667395079741, learning_rate=0.594897582592 \n",
      "[CV]  n_estimators=218, max_depth=7, colsample_bytree=0.483601022034, subsample=0.667395079741, learning_rate=0.594897582592, total=   9.3s\n",
      "[CV] n_estimators=613, max_depth=6, colsample_bytree=0.402993152724, subsample=0.914137092531, learning_rate=0.50456509314 \n",
      "[CV]  n_estimators=613, max_depth=6, colsample_bytree=0.402993152724, subsample=0.914137092531, learning_rate=0.50456509314, total=  15.8s\n",
      "[CV] n_estimators=613, max_depth=6, colsample_bytree=0.402993152724, subsample=0.914137092531, learning_rate=0.50456509314 \n",
      "[CV]  n_estimators=613, max_depth=6, colsample_bytree=0.402993152724, subsample=0.914137092531, learning_rate=0.50456509314, total=  17.5s\n",
      "[CV] n_estimators=613, max_depth=6, colsample_bytree=0.402993152724, subsample=0.914137092531, learning_rate=0.50456509314 \n",
      "[CV]  n_estimators=613, max_depth=6, colsample_bytree=0.402993152724, subsample=0.914137092531, learning_rate=0.50456509314, total=  17.3s\n",
      "[CV] n_estimators=830, max_depth=7, colsample_bytree=0.390748383088, subsample=0.78664258399, learning_rate=0.562565753905 \n",
      "[CV]  n_estimators=830, max_depth=7, colsample_bytree=0.390748383088, subsample=0.78664258399, learning_rate=0.562565753905, total=  21.8s\n",
      "[CV] n_estimators=830, max_depth=7, colsample_bytree=0.390748383088, subsample=0.78664258399, learning_rate=0.562565753905 \n",
      "[CV]  n_estimators=830, max_depth=7, colsample_bytree=0.390748383088, subsample=0.78664258399, learning_rate=0.562565753905, total=  19.2s\n",
      "[CV] n_estimators=830, max_depth=7, colsample_bytree=0.390748383088, subsample=0.78664258399, learning_rate=0.562565753905 \n",
      "[CV]  n_estimators=830, max_depth=7, colsample_bytree=0.390748383088, subsample=0.78664258399, learning_rate=0.562565753905, total=  20.2s\n",
      "[CV] n_estimators=116, max_depth=2, colsample_bytree=0.395362964969, subsample=0.547039167409, learning_rate=0.401086645776 \n",
      "[CV]  n_estimators=116, max_depth=2, colsample_bytree=0.395362964969, subsample=0.547039167409, learning_rate=0.401086645776, total=   4.7s\n",
      "[CV] n_estimators=116, max_depth=2, colsample_bytree=0.395362964969, subsample=0.547039167409, learning_rate=0.401086645776 \n",
      "[CV]  n_estimators=116, max_depth=2, colsample_bytree=0.395362964969, subsample=0.547039167409, learning_rate=0.401086645776, total=   3.4s\n",
      "[CV] n_estimators=116, max_depth=2, colsample_bytree=0.395362964969, subsample=0.547039167409, learning_rate=0.401086645776 \n",
      "[CV]  n_estimators=116, max_depth=2, colsample_bytree=0.395362964969, subsample=0.547039167409, learning_rate=0.401086645776, total=   3.8s\n",
      "[CV] n_estimators=732, max_depth=6, colsample_bytree=0.888273405704, subsample=0.580518265443, learning_rate=0.186817038336 \n",
      "[CV]  n_estimators=732, max_depth=6, colsample_bytree=0.888273405704, subsample=0.580518265443, learning_rate=0.186817038336, total=  50.8s\n",
      "[CV] n_estimators=732, max_depth=6, colsample_bytree=0.888273405704, subsample=0.580518265443, learning_rate=0.186817038336 \n",
      "[CV]  n_estimators=732, max_depth=6, colsample_bytree=0.888273405704, subsample=0.580518265443, learning_rate=0.186817038336, total=  51.8s\n",
      "[CV] n_estimators=732, max_depth=6, colsample_bytree=0.888273405704, subsample=0.580518265443, learning_rate=0.186817038336 \n",
      "[CV]  n_estimators=732, max_depth=6, colsample_bytree=0.888273405704, subsample=0.580518265443, learning_rate=0.186817038336, total=  52.2s\n",
      "[CV] n_estimators=810, max_depth=5, colsample_bytree=0.539457895048, subsample=0.587813843852, learning_rate=0.345263053348 \n",
      "[CV]  n_estimators=810, max_depth=5, colsample_bytree=0.539457895048, subsample=0.587813843852, learning_rate=0.345263053348, total=  31.9s\n",
      "[CV] n_estimators=810, max_depth=5, colsample_bytree=0.539457895048, subsample=0.587813843852, learning_rate=0.345263053348 \n",
      "[CV]  n_estimators=810, max_depth=5, colsample_bytree=0.539457895048, subsample=0.587813843852, learning_rate=0.345263053348, total=  30.1s\n",
      "[CV] n_estimators=810, max_depth=5, colsample_bytree=0.539457895048, subsample=0.587813843852, learning_rate=0.345263053348 \n",
      "[CV]  n_estimators=810, max_depth=5, colsample_bytree=0.539457895048, subsample=0.587813843852, learning_rate=0.345263053348, total=  31.6s\n",
      "[CV] n_estimators=699, max_depth=2, colsample_bytree=0.95601949236, subsample=0.670739590226, learning_rate=0.300614309746 \n",
      "[CV]  n_estimators=699, max_depth=2, colsample_bytree=0.95601949236, subsample=0.670739590226, learning_rate=0.300614309746, total=  38.9s\n",
      "[CV] n_estimators=699, max_depth=2, colsample_bytree=0.95601949236, subsample=0.670739590226, learning_rate=0.300614309746 \n",
      "[CV]  n_estimators=699, max_depth=2, colsample_bytree=0.95601949236, subsample=0.670739590226, learning_rate=0.300614309746, total=  41.7s\n",
      "[CV] n_estimators=699, max_depth=2, colsample_bytree=0.95601949236, subsample=0.670739590226, learning_rate=0.300614309746 \n",
      "[CV]  n_estimators=699, max_depth=2, colsample_bytree=0.95601949236, subsample=0.670739590226, learning_rate=0.300614309746, total=  37.4s\n",
      "[CV] n_estimators=391, max_depth=5, colsample_bytree=0.528415614311, subsample=0.365591659812, learning_rate=0.26481956567 \n",
      "[CV]  n_estimators=391, max_depth=5, colsample_bytree=0.528415614311, subsample=0.365591659812, learning_rate=0.26481956567, total=  16.1s\n",
      "[CV] n_estimators=391, max_depth=5, colsample_bytree=0.528415614311, subsample=0.365591659812, learning_rate=0.26481956567 \n",
      "[CV]  n_estimators=391, max_depth=5, colsample_bytree=0.528415614311, subsample=0.365591659812, learning_rate=0.26481956567, total=  15.7s\n",
      "[CV] n_estimators=391, max_depth=5, colsample_bytree=0.528415614311, subsample=0.365591659812, learning_rate=0.26481956567 \n",
      "[CV]  n_estimators=391, max_depth=5, colsample_bytree=0.528415614311, subsample=0.365591659812, learning_rate=0.26481956567, total=  16.1s\n",
      "[CV] n_estimators=720, max_depth=1, colsample_bytree=0.585858366632, subsample=0.318214459606, learning_rate=0.426517969395 \n",
      "[CV]  n_estimators=720, max_depth=1, colsample_bytree=0.585858366632, subsample=0.318214459606, learning_rate=0.426517969395, total=  13.8s\n",
      "[CV] n_estimators=720, max_depth=1, colsample_bytree=0.585858366632, subsample=0.318214459606, learning_rate=0.426517969395 \n",
      "[CV]  n_estimators=720, max_depth=1, colsample_bytree=0.585858366632, subsample=0.318214459606, learning_rate=0.426517969395, total=  13.8s\n",
      "[CV] n_estimators=720, max_depth=1, colsample_bytree=0.585858366632, subsample=0.318214459606, learning_rate=0.426517969395 \n",
      "[CV]  n_estimators=720, max_depth=1, colsample_bytree=0.585858366632, subsample=0.318214459606, learning_rate=0.426517969395, total=  16.7s\n",
      "[CV] n_estimators=437, max_depth=4, colsample_bytree=0.953184321997, subsample=0.535123226772, learning_rate=0.33659257307 \n",
      "[CV]  n_estimators=437, max_depth=4, colsample_bytree=0.953184321997, subsample=0.535123226772, learning_rate=0.33659257307, total=  33.7s\n",
      "[CV] n_estimators=437, max_depth=4, colsample_bytree=0.953184321997, subsample=0.535123226772, learning_rate=0.33659257307 \n",
      "[CV]  n_estimators=437, max_depth=4, colsample_bytree=0.953184321997, subsample=0.535123226772, learning_rate=0.33659257307, total=  33.7s\n",
      "[CV] n_estimators=437, max_depth=4, colsample_bytree=0.953184321997, subsample=0.535123226772, learning_rate=0.33659257307 \n",
      "[CV]  n_estimators=437, max_depth=4, colsample_bytree=0.953184321997, subsample=0.535123226772, learning_rate=0.33659257307, total=  29.3s\n",
      "[CV] n_estimators=907, max_depth=5, colsample_bytree=0.834702405258, subsample=0.320396030339, learning_rate=0.494626457314 \n",
      "[CV]  n_estimators=907, max_depth=5, colsample_bytree=0.834702405258, subsample=0.320396030339, learning_rate=0.494626457314, total=  28.1s\n",
      "[CV] n_estimators=907, max_depth=5, colsample_bytree=0.834702405258, subsample=0.320396030339, learning_rate=0.494626457314 \n",
      "[CV]  n_estimators=907, max_depth=5, colsample_bytree=0.834702405258, subsample=0.320396030339, learning_rate=0.494626457314, total=  28.0s\n",
      "[CV] n_estimators=907, max_depth=5, colsample_bytree=0.834702405258, subsample=0.320396030339, learning_rate=0.494626457314 \n",
      "[CV]  n_estimators=907, max_depth=5, colsample_bytree=0.834702405258, subsample=0.320396030339, learning_rate=0.494626457314, total=  27.9s\n",
      "[CV] n_estimators=323, max_depth=7, colsample_bytree=0.71570778604, subsample=0.337228672012, learning_rate=0.234834934954 \n",
      "[CV]  n_estimators=323, max_depth=7, colsample_bytree=0.71570778604, subsample=0.337228672012, learning_rate=0.234834934954, total=  19.4s\n",
      "[CV] n_estimators=323, max_depth=7, colsample_bytree=0.71570778604, subsample=0.337228672012, learning_rate=0.234834934954 \n",
      "[CV]  n_estimators=323, max_depth=7, colsample_bytree=0.71570778604, subsample=0.337228672012, learning_rate=0.234834934954, total=  19.3s\n",
      "[CV] n_estimators=323, max_depth=7, colsample_bytree=0.71570778604, subsample=0.337228672012, learning_rate=0.234834934954 \n",
      "[CV]  n_estimators=323, max_depth=7, colsample_bytree=0.71570778604, subsample=0.337228672012, learning_rate=0.234834934954, total=  18.8s\n",
      "[CV] n_estimators=105, max_depth=2, colsample_bytree=0.687702118284, subsample=0.465215872567, learning_rate=0.132696533839 \n",
      "[CV]  n_estimators=105, max_depth=2, colsample_bytree=0.687702118284, subsample=0.465215872567, learning_rate=0.132696533839, total=   4.5s\n",
      "[CV] n_estimators=105, max_depth=2, colsample_bytree=0.687702118284, subsample=0.465215872567, learning_rate=0.132696533839 \n",
      "[CV]  n_estimators=105, max_depth=2, colsample_bytree=0.687702118284, subsample=0.465215872567, learning_rate=0.132696533839, total=   4.4s\n",
      "[CV] n_estimators=105, max_depth=2, colsample_bytree=0.687702118284, subsample=0.465215872567, learning_rate=0.132696533839 \n",
      "[CV]  n_estimators=105, max_depth=2, colsample_bytree=0.687702118284, subsample=0.465215872567, learning_rate=0.132696533839, total=   4.6s\n",
      "[CV] n_estimators=828, max_depth=6, colsample_bytree=0.659758688665, subsample=0.445038342016, learning_rate=0.409931553351 \n",
      "[CV]  n_estimators=828, max_depth=6, colsample_bytree=0.659758688665, subsample=0.445038342016, learning_rate=0.409931553351, total=  27.1s\n",
      "[CV] n_estimators=828, max_depth=6, colsample_bytree=0.659758688665, subsample=0.445038342016, learning_rate=0.409931553351 \n",
      "[CV]  n_estimators=828, max_depth=6, colsample_bytree=0.659758688665, subsample=0.445038342016, learning_rate=0.409931553351, total=  27.0s\n",
      "[CV] n_estimators=828, max_depth=6, colsample_bytree=0.659758688665, subsample=0.445038342016, learning_rate=0.409931553351 \n",
      "[CV]  n_estimators=828, max_depth=6, colsample_bytree=0.659758688665, subsample=0.445038342016, learning_rate=0.409931553351, total=  28.8s\n",
      "[CV] n_estimators=737, max_depth=4, colsample_bytree=0.69165150975, subsample=0.472393292842, learning_rate=0.369328931893 \n",
      "[CV]  n_estimators=737, max_depth=4, colsample_bytree=0.69165150975, subsample=0.472393292842, learning_rate=0.369328931893, total=  26.8s\n",
      "[CV] n_estimators=737, max_depth=4, colsample_bytree=0.69165150975, subsample=0.472393292842, learning_rate=0.369328931893 \n",
      "[CV]  n_estimators=737, max_depth=4, colsample_bytree=0.69165150975, subsample=0.472393292842, learning_rate=0.369328931893, total=  27.3s\n",
      "[CV] n_estimators=737, max_depth=4, colsample_bytree=0.69165150975, subsample=0.472393292842, learning_rate=0.369328931893 \n",
      "[CV]  n_estimators=737, max_depth=4, colsample_bytree=0.69165150975, subsample=0.472393292842, learning_rate=0.369328931893, total=  28.1s\n",
      "[CV] n_estimators=148, max_depth=2, colsample_bytree=0.539420827701, subsample=0.677010446856, learning_rate=0.351410982417 \n",
      "[CV]  n_estimators=148, max_depth=2, colsample_bytree=0.539420827701, subsample=0.677010446856, learning_rate=0.351410982417, total=   5.9s\n",
      "[CV] n_estimators=148, max_depth=2, colsample_bytree=0.539420827701, subsample=0.677010446856, learning_rate=0.351410982417 \n",
      "[CV]  n_estimators=148, max_depth=2, colsample_bytree=0.539420827701, subsample=0.677010446856, learning_rate=0.351410982417, total=   5.9s\n",
      "[CV] n_estimators=148, max_depth=2, colsample_bytree=0.539420827701, subsample=0.677010446856, learning_rate=0.351410982417 \n",
      "[CV]  n_estimators=148, max_depth=2, colsample_bytree=0.539420827701, subsample=0.677010446856, learning_rate=0.351410982417, total=   6.4s\n",
      "[CV] n_estimators=530, max_depth=2, colsample_bytree=0.689136417541, subsample=0.623521824258, learning_rate=0.335375206318 \n",
      "[CV]  n_estimators=530, max_depth=2, colsample_bytree=0.689136417541, subsample=0.623521824258, learning_rate=0.335375206318, total=  28.9s\n",
      "[CV] n_estimators=530, max_depth=2, colsample_bytree=0.689136417541, subsample=0.623521824258, learning_rate=0.335375206318 \n",
      "[CV]  n_estimators=530, max_depth=2, colsample_bytree=0.689136417541, subsample=0.623521824258, learning_rate=0.335375206318, total=  22.4s\n",
      "[CV] n_estimators=530, max_depth=2, colsample_bytree=0.689136417541, subsample=0.623521824258, learning_rate=0.335375206318 \n",
      "[CV]  n_estimators=530, max_depth=2, colsample_bytree=0.689136417541, subsample=0.623521824258, learning_rate=0.335375206318, total=  24.4s\n",
      "[CV] n_estimators=456, max_depth=7, colsample_bytree=0.772813930693, subsample=0.414135043348, learning_rate=0.392393244074 \n",
      "[CV]  n_estimators=456, max_depth=7, colsample_bytree=0.772813930693, subsample=0.414135043348, learning_rate=0.392393244074, total=  22.7s\n",
      "[CV] n_estimators=456, max_depth=7, colsample_bytree=0.772813930693, subsample=0.414135043348, learning_rate=0.392393244074 \n",
      "[CV]  n_estimators=456, max_depth=7, colsample_bytree=0.772813930693, subsample=0.414135043348, learning_rate=0.392393244074, total=  23.0s\n",
      "[CV] n_estimators=456, max_depth=7, colsample_bytree=0.772813930693, subsample=0.414135043348, learning_rate=0.392393244074 \n",
      "[CV]  n_estimators=456, max_depth=7, colsample_bytree=0.772813930693, subsample=0.414135043348, learning_rate=0.392393244074, total=  22.5s\n",
      "[CV] n_estimators=738, max_depth=3, colsample_bytree=0.735198604581, subsample=0.67072000491, learning_rate=0.158909463947 \n",
      "[CV]  n_estimators=738, max_depth=3, colsample_bytree=0.735198604581, subsample=0.67072000491, learning_rate=0.158909463947, total=  45.4s\n",
      "[CV] n_estimators=738, max_depth=3, colsample_bytree=0.735198604581, subsample=0.67072000491, learning_rate=0.158909463947 \n",
      "[CV]  n_estimators=738, max_depth=3, colsample_bytree=0.735198604581, subsample=0.67072000491, learning_rate=0.158909463947, total=  48.3s\n",
      "[CV] n_estimators=738, max_depth=3, colsample_bytree=0.735198604581, subsample=0.67072000491, learning_rate=0.158909463947 \n",
      "[CV]  n_estimators=738, max_depth=3, colsample_bytree=0.735198604581, subsample=0.67072000491, learning_rate=0.158909463947, total=  50.3s\n",
      "[CV] n_estimators=240, max_depth=4, colsample_bytree=0.320699634862, subsample=0.354296631156, learning_rate=0.232705569061 \n",
      "[CV]  n_estimators=240, max_depth=4, colsample_bytree=0.320699634862, subsample=0.354296631156, learning_rate=0.232705569061, total=   8.2s\n",
      "[CV] n_estimators=240, max_depth=4, colsample_bytree=0.320699634862, subsample=0.354296631156, learning_rate=0.232705569061 \n",
      "[CV]  n_estimators=240, max_depth=4, colsample_bytree=0.320699634862, subsample=0.354296631156, learning_rate=0.232705569061, total=   9.9s\n",
      "[CV] n_estimators=240, max_depth=4, colsample_bytree=0.320699634862, subsample=0.354296631156, learning_rate=0.232705569061 \n",
      "[CV]  n_estimators=240, max_depth=4, colsample_bytree=0.320699634862, subsample=0.354296631156, learning_rate=0.232705569061, total=  10.3s\n",
      "[CV] n_estimators=902, max_depth=6, colsample_bytree=0.657678256972, subsample=0.922119750225, learning_rate=0.431668290716 \n",
      "[CV]  n_estimators=902, max_depth=6, colsample_bytree=0.657678256972, subsample=0.922119750225, learning_rate=0.431668290716, total=  33.2s\n",
      "[CV] n_estimators=902, max_depth=6, colsample_bytree=0.657678256972, subsample=0.922119750225, learning_rate=0.431668290716 \n",
      "[CV]  n_estimators=902, max_depth=6, colsample_bytree=0.657678256972, subsample=0.922119750225, learning_rate=0.431668290716, total=  34.6s\n",
      "[CV] n_estimators=902, max_depth=6, colsample_bytree=0.657678256972, subsample=0.922119750225, learning_rate=0.431668290716 \n",
      "[CV]  n_estimators=902, max_depth=6, colsample_bytree=0.657678256972, subsample=0.922119750225, learning_rate=0.431668290716, total=  31.7s\n",
      "[CV] n_estimators=367, max_depth=4, colsample_bytree=0.370161753244, subsample=0.575997878507, learning_rate=0.420866774085 \n",
      "[CV]  n_estimators=367, max_depth=4, colsample_bytree=0.370161753244, subsample=0.575997878507, learning_rate=0.420866774085, total=  11.0s\n",
      "[CV] n_estimators=367, max_depth=4, colsample_bytree=0.370161753244, subsample=0.575997878507, learning_rate=0.420866774085 \n",
      "[CV]  n_estimators=367, max_depth=4, colsample_bytree=0.370161753244, subsample=0.575997878507, learning_rate=0.420866774085, total=  11.6s\n",
      "[CV] n_estimators=367, max_depth=4, colsample_bytree=0.370161753244, subsample=0.575997878507, learning_rate=0.420866774085 \n",
      "[CV]  n_estimators=367, max_depth=4, colsample_bytree=0.370161753244, subsample=0.575997878507, learning_rate=0.420866774085, total=  12.6s\n",
      "[CV] n_estimators=157, max_depth=7, colsample_bytree=0.422120355609, subsample=0.504527117324, learning_rate=0.34345843889 \n",
      "[CV]  n_estimators=157, max_depth=7, colsample_bytree=0.422120355609, subsample=0.504527117324, learning_rate=0.34345843889, total=   8.1s\n",
      "[CV] n_estimators=157, max_depth=7, colsample_bytree=0.422120355609, subsample=0.504527117324, learning_rate=0.34345843889 \n",
      "[CV]  n_estimators=157, max_depth=7, colsample_bytree=0.422120355609, subsample=0.504527117324, learning_rate=0.34345843889, total=   8.4s\n",
      "[CV] n_estimators=157, max_depth=7, colsample_bytree=0.422120355609, subsample=0.504527117324, learning_rate=0.34345843889 \n",
      "[CV]  n_estimators=157, max_depth=7, colsample_bytree=0.422120355609, subsample=0.504527117324, learning_rate=0.34345843889, total=   8.6s\n",
      "[CV] n_estimators=364, max_depth=7, colsample_bytree=0.641243117413, subsample=0.950834277945, learning_rate=0.383031463517 \n",
      "[CV]  n_estimators=364, max_depth=7, colsample_bytree=0.641243117413, subsample=0.950834277945, learning_rate=0.383031463517, total=  19.2s\n",
      "[CV] n_estimators=364, max_depth=7, colsample_bytree=0.641243117413, subsample=0.950834277945, learning_rate=0.383031463517 \n",
      "[CV]  n_estimators=364, max_depth=7, colsample_bytree=0.641243117413, subsample=0.950834277945, learning_rate=0.383031463517, total=  19.6s\n",
      "[CV] n_estimators=364, max_depth=7, colsample_bytree=0.641243117413, subsample=0.950834277945, learning_rate=0.383031463517 \n",
      "[CV]  n_estimators=364, max_depth=7, colsample_bytree=0.641243117413, subsample=0.950834277945, learning_rate=0.383031463517, total=  19.3s\n"
     ]
    },
    {
     "name": "stderr",
     "output_type": "stream",
     "text": [
      "[Parallel(n_jobs=1)]: Done 150 out of 150 | elapsed: 59.0min finished\n"
     ]
    },
    {
     "name": "stdout",
     "output_type": "stream",
     "text": [
      "RandomizedSearchCV took 3558s\n"
     ]
    }
   ],
   "source": [
    "from xgboost import XGBClassifier\n",
    "from sklearn.model_selection import RandomizedSearchCV\n",
    "from scipy.stats import uniform, randint as randint\n",
    "\n",
    "# initialize classifier\n",
    "xgb = XGBClassifier(seed=290615,nthread=4)\n",
    "\n",
    "# specify parameters and distributions to sample from\n",
    "param_dist = {\"max_depth\": randint(1, 8),\n",
    "              \"learning_rate\": uniform(0.1, 0.5),\n",
    "              \"n_estimators\": randint(100, 1000),\n",
    "              \"subsample\": uniform(0.3,0.7),\n",
    "              \"colsample_bytree\": uniform(0.3,0.7)}\n",
    "\n",
    "# run randomized search\n",
    "random_search = RandomizedSearchCV(xgb, \n",
    "                                   param_distributions=param_dist,\n",
    "                                   n_iter=50,\n",
    "                                   verbose=2,\n",
    "                                   random_state=290615)\n",
    "\n",
    "start = time()\n",
    "random_search.fit(X_train, y_train)\n",
    "print('RandomizedSearchCV took %is' % (time() - start))\n"
   ]
  },
  {
   "cell_type": "code",
   "execution_count": 6,
   "metadata": {
    "collapsed": false
   },
   "outputs": [
    {
     "name": "stdout",
     "output_type": "stream",
     "text": [
      "Model with rank: 1\n",
      "Mean validation score: 0.573 (std: 0.011)\n",
      "Parameters: {'n_estimators': 150, 'max_depth': 4, 'colsample_bytree': 0.638511462894362, 'subsample': 0.65507257356179638, 'learning_rate': 0.35918710119018804}\n",
      "\n",
      "Model with rank: 2\n",
      "Mean validation score: 0.566 (std: 0.008)\n",
      "Parameters: {'n_estimators': 434, 'max_depth': 5, 'colsample_bytree': 0.51890941336944962, 'subsample': 0.55516747192623139, 'learning_rate': 0.16871925868974971}\n",
      "\n",
      "Model with rank: 3\n",
      "Mean validation score: 0.559 (std: 0.014)\n",
      "Parameters: {'n_estimators': 748, 'max_depth': 4, 'colsample_bytree': 0.42356293048922905, 'subsample': 0.73997854297995791, 'learning_rate': 0.1104641057596317}\n",
      "\n",
      "Model with rank: 3\n",
      "Mean validation score: 0.559 (std: 0.020)\n",
      "Parameters: {'n_estimators': 338, 'max_depth': 2, 'colsample_bytree': 0.65638242422127924, 'subsample': 0.88665979477155776, 'learning_rate': 0.15995335224541932}\n",
      "\n",
      "Model with rank: 3\n",
      "Mean validation score: 0.559 (std: 0.015)\n",
      "Parameters: {'n_estimators': 812, 'max_depth': 7, 'colsample_bytree': 0.54622281116528582, 'subsample': 0.58996507559339517, 'learning_rate': 0.15622070454058515}\n",
      "\n"
     ]
    }
   ],
   "source": [
    "# helper function to report best scores\n",
    "def report(results, n_top=3):\n",
    "    for i in range(1, n_top + 1):\n",
    "        candidates = np.flatnonzero(results['rank_test_score'] == i)\n",
    "        for candidate in candidates:\n",
    "            print(\"Model with rank: {0}\".format(i))\n",
    "            print(\"Mean validation score: {0:.3f} (std: {1:.3f})\".format(\n",
    "                  results['mean_test_score'][candidate],\n",
    "                  results['std_test_score'][candidate]))\n",
    "            print(\"Parameters: {0}\".format(results['params'][candidate]))\n",
    "            print(\"\")\n",
    "report(random_search.cv_results_)"
   ]
  },
  {
   "cell_type": "code",
   "execution_count": 7,
   "metadata": {
    "collapsed": false
   },
   "outputs": [
    {
     "name": "stdout",
     "output_type": "stream",
     "text": [
      "log loss of 1.0537 on test set\n",
      "accuracy of 0.615 on test set\n"
     ]
    },
    {
     "data": {
      "text/plain": [
       "array([[  8,  30,   6],\n",
       "       [  5, 121,  29],\n",
       "       [  5,  39,  53]])"
      ]
     },
     "execution_count": 7,
     "metadata": {},
     "output_type": "execute_result"
    }
   ],
   "source": [
    "# evaluate on hold-out set\n",
    "from sklearn.metrics import log_loss, accuracy_score, confusion_matrix\n",
    "y_test_pred_prob = random_search.predict_proba(X_test)\n",
    "y_test_pred = random_search.predict(X_test)\n",
    "ll = log_loss(y_pred=y_test_pred_prob,y_true=y_test,eps=1e-15)\n",
    "acc = accuracy_score(y_pred=y_test_pred,y_true=y_test)\n",
    "print('log loss of %.4f on test set' % ll)\n",
    "print('accuracy of %.3f on test set' % acc)\n",
    "confusion_matrix(y_true=y_test,y_pred=y_test_pred)"
   ]
  },
  {
   "cell_type": "code",
   "execution_count": 8,
   "metadata": {
    "collapsed": false
   },
   "outputs": [
    {
     "data": {
      "text/plain": [
       "XGBClassifier(base_score=0.5, colsample_bylevel=1,\n",
       "       colsample_bytree=0.638511462894362, gamma=0,\n",
       "       learning_rate=0.35918710119018804, max_delta_step=0, max_depth=4,\n",
       "       min_child_weight=1, missing=None, n_estimators=150, nthread=-1,\n",
       "       objective='multi:softprob', reg_alpha=0, reg_lambda=1,\n",
       "       scale_pos_weight=1, seed=290615, silent=False,\n",
       "       subsample=0.65507257356179638)"
      ]
     },
     "execution_count": 8,
     "metadata": {},
     "output_type": "execute_result"
    }
   ],
   "source": [
    "# train model on full dataset with the tuned parameters\n",
    "xgb_final = XGBClassifier(n_estimators=random_search.best_params_['n_estimators'],\n",
    "                          max_depth=random_search.best_params_['max_depth'],\n",
    "                          learning_rate=random_search.best_params_['learning_rate'],\n",
    "                          subsample=random_search.best_params_['subsample'],\n",
    "                          colsample_bytree=random_search.best_params_['colsample_bytree'],\n",
    "                          silent=False,\n",
    "                          seed=290615)\n",
    "xgb_final.fit(X,Y,eval_metric='mlogloss',verbose=True)"
   ]
  },
  {
   "cell_type": "code",
   "execution_count": 9,
   "metadata": {
    "collapsed": false
   },
   "outputs": [],
   "source": [
    "# prepare submission file\n",
    "Y_submit = xgb_final.predict_proba(X_submit)\n",
    "df_submit = pd.read_csv('data/sample_submission.csv')\n",
    "prior = df_submit[['Type_1','Type_2','Type_3']].as_matrix()\n",
    "df_submit[['Type_1','Type_2','Type_3']] = Y_submit\n",
    "df_submit.to_csv('data/submission/vggfeat_xgbcv_n20.csv',index=False) # ~1.9\n",
    "\n",
    "# clipped submission\n",
    "Y_clip = Y_submit.clip(max=0.9,min=0.1)\n",
    "Y_clip = Y_clip/Y_clip.sum(axis=1,keepdims=True)\n",
    "df_submit[['Type_1','Type_2','Type_3']] = Y_clip\n",
    "df_submit.to_csv('data/submission/vggfeat_xgbcv_n20_clip.csv',index=False)# ~1.2\n",
    "\n",
    "# multiply with prior get posterior probabilities, then clip aggressively\n",
    "Y_posterior = Y_submit * prior\n",
    "Y_posterior = Y_posterior/Y_posterior.sum(axis=1,keepdims=True)\n",
    "Y_clip = Y_posterior.clip(max=0.5,min=0.1)\n",
    "Y_clip = Y_clip/Y_clip.sum(axis=1,keepdims=True)\n",
    "df_submit[['Type_1','Type_2','Type_3']] = Y_clip\n",
    "df_submit.to_csv('data/submission/vggfeat_xgbcv_n20_posterior_clip.csv',index=False)# ~1.1\n",
    "\n",
    "# take the average with the prior and clip aggressively\n",
    "Y_avg = Y_submit + prior\n",
    "Y_avg = Y_avg/Y_avg.sum(axis=1,keepdims=True)\n",
    "Y_clip = Y_avg.clip(max=0.5,min=0.1)\n",
    "Y_clip = Y_clip/Y_clip.sum(axis=1,keepdims=True)\n",
    "df_submit[['Type_1','Type_2','Type_3']] = Y_avg\n",
    "df_submit.to_csv('data/submission/vggfeat_xgbcv_n20_posterior_avg.csv',index=False)# ~1.1\n",
    "df_submit[['Type_1','Type_2','Type_3']] = Y_clip\n",
    "df_submit.to_csv('data/submission/vggfeat_xgbcv_n20_posterior_avg_clip.csv',index=False)# ~1.1"
   ]
  }
 ],
 "metadata": {
  "anaconda-cloud": {},
  "kernelspec": {
   "display_name": "Python [conda root]",
   "language": "python",
   "name": "conda-root-py"
  },
  "language_info": {
   "codemirror_mode": {
    "name": "ipython",
    "version": 3
   },
   "file_extension": ".py",
   "mimetype": "text/x-python",
   "name": "python",
   "nbconvert_exporter": "python",
   "pygments_lexer": "ipython3",
   "version": "3.5.2"
  }
 },
 "nbformat": 4,
 "nbformat_minor": 1
}
